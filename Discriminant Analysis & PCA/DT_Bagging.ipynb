{
 "cells": [
  {
   "cell_type": "code",
   "execution_count": 12,
   "metadata": {},
   "outputs": [],
   "source": [
    "import numpy as np\n",
    "from numpy.linalg import eig\n",
    "import matplotlib.pyplot as plt"
   ]
  },
  {
   "cell_type": "code",
   "execution_count": 13,
   "metadata": {},
   "outputs": [],
   "source": [
    "data = np.load('mnist.npz')"
   ]
  },
  {
   "cell_type": "code",
   "execution_count": 18,
   "metadata": {},
   "outputs": [
    {
     "name": "stdout",
     "output_type": "stream",
     "text": [
      "x_train_raw = \n",
      " (60000, 28, 28)\n",
      "x_train = \n",
      " (60000, 784)\n",
      "\n",
      "x_train_final dim =  (18623, 784)\n",
      "X dim =  (784, 18623) \n",
      "\n",
      "y_train_final dim =  (18623,)\n",
      "Y dim =  (18623,)\n"
     ]
    }
   ],
   "source": [
    "x_train_raw = data['x_train']\n",
    "y_train = data['y_train']\n",
    "x_test_raw = data['x_test']\n",
    "y_test = data['y_test']\n",
    "print(\"x_train_raw = \\n\", x_train_raw.shape)\n",
    "x_train = x_train_raw.reshape((x_train_raw.shape[0], -1))\n",
    "x_test = x_test_raw.reshape((x_test_raw.shape[0], -1))\n",
    "print(\"x_train = \\n\", x_train.shape)\n",
    "\n",
    "x_train_final = []\n",
    "y_train_final = []\n",
    "x_test_final = []\n",
    "y_test_final = []\n",
    "for i in range(len(x_train)):\n",
    "    if ((y_train[i] == 0) or (y_train[i] == 1) or (y_train[i] == 2)):\n",
    "        x_train_final.append(x_train[i])\n",
    "        y_train_final.append(y_train[i])\n",
    "for i in range(len(x_test)):\n",
    "    if ((y_test[i] == 0) or (y_test[i] == 1) or (y_test[i] == 2)):\n",
    "        x_test_final.append(x_test[i])\n",
    "        y_test_final.append(y_test[i])\n",
    "x_test_final = np.array(x_test_final)\n",
    "y_test_final = np.array(y_test_final)\n",
    "\n",
    "# print(x_train_final, len(x_train_final))\n",
    "# print(y_train_final, len(y_train_final))\n",
    "# print(len(x_train_final))\n",
    "# print(len(y_train_final))\n",
    "x_train_final = np.array(x_train_final)\n",
    "y_train_final = np.array(y_train_final)\n",
    "\n",
    "print(\"\\nx_train_final dim = \", x_train_final.shape)\n",
    "X = x_train_final.T\n",
    "print(\"X dim = \", X.shape, \"\\n\")\n",
    "\n",
    "print(\"y_train_final dim = \",y_train_final.shape)\n",
    "Y = y_train_final\n",
    "print(\"Y dim = \", Y.shape)"
   ]
  },
  {
   "cell_type": "code",
   "execution_count": 15,
   "metadata": {},
   "outputs": [],
   "source": [
    "class PCA:\n",
    "    def __init__(self, p):      # p << d; p = new dimension count\n",
    "        self.p = p\n",
    "        self.components     = None\n",
    "        self.mean           = None\n",
    "        self.variance_share = None\n",
    "    \n",
    "    def fit(self, X):\n",
    "        # Regularization\n",
    "        self.mean = np.mean(X, axis = 0)\n",
    "        X -= self.mean\n",
    "        cov_matrix = np.cov(X.T)\n",
    "\n",
    "        values, vectors = np.linalg.eig(cov_matrix)\n",
    "        sort_idx = np.argsort(values)[::-1]\n",
    "        values   = values[sort_idx]\n",
    "        vectors  = vectors[:, sort_idx]\n",
    "\n",
    "        self.components = vectors[:self.p]\n",
    "        self.variance_share = np.sum(values[:self.p]) / np.sum(values)\n",
    "    \n",
    "    def transform(self, X):\n",
    "        X -= self.mean\n",
    "        return np.dot(X, self.components.T)"
   ]
  },
  {
   "cell_type": "markdown",
   "metadata": {},
   "source": [
    "## PCA"
   ]
  },
  {
   "cell_type": "code",
   "execution_count": 16,
   "metadata": {},
   "outputs": [
    {
     "ename": "UFuncTypeError",
     "evalue": "Cannot cast ufunc 'subtract' output from dtype('float64') to dtype('uint8') with casting rule 'same_kind'",
     "output_type": "error",
     "traceback": [
      "\u001b[1;31m---------------------------------------------------------------------------\u001b[0m",
      "\u001b[1;31mUFuncTypeError\u001b[0m                            Traceback (most recent call last)",
      "Cell \u001b[1;32mIn[16], line 2\u001b[0m\n\u001b[0;32m      1\u001b[0m pca \u001b[38;5;241m=\u001b[39m PCA(p \u001b[38;5;241m=\u001b[39m \u001b[38;5;241m10\u001b[39m)\n\u001b[1;32m----> 2\u001b[0m \u001b[43mpca\u001b[49m\u001b[38;5;241;43m.\u001b[39;49m\u001b[43mfit\u001b[49m\u001b[43m(\u001b[49m\u001b[43mX\u001b[49m\u001b[43m)\u001b[49m\n\u001b[0;32m      3\u001b[0m \u001b[38;5;28mprint\u001b[39m(X\u001b[38;5;241m.\u001b[39mshape)\n",
      "Cell \u001b[1;32mIn[15], line 11\u001b[0m, in \u001b[0;36mPCA.fit\u001b[1;34m(self, X)\u001b[0m\n\u001b[0;32m      8\u001b[0m \u001b[38;5;28;01mdef\u001b[39;00m \u001b[38;5;21mfit\u001b[39m(\u001b[38;5;28mself\u001b[39m, X):\n\u001b[0;32m      9\u001b[0m     \u001b[38;5;66;03m# Regularization\u001b[39;00m\n\u001b[0;32m     10\u001b[0m     \u001b[38;5;28mself\u001b[39m\u001b[38;5;241m.\u001b[39mmean \u001b[38;5;241m=\u001b[39m np\u001b[38;5;241m.\u001b[39mmean(X, axis \u001b[38;5;241m=\u001b[39m \u001b[38;5;241m0\u001b[39m)\n\u001b[1;32m---> 11\u001b[0m     \u001b[43mX\u001b[49m\u001b[43m \u001b[49m\u001b[38;5;241;43m-\u001b[39;49m\u001b[38;5;241;43m=\u001b[39;49m\u001b[43m \u001b[49m\u001b[38;5;28;43mself\u001b[39;49m\u001b[38;5;241;43m.\u001b[39;49m\u001b[43mmean\u001b[49m\n\u001b[0;32m     12\u001b[0m     cov_matrix \u001b[38;5;241m=\u001b[39m np\u001b[38;5;241m.\u001b[39mcov(X\u001b[38;5;241m.\u001b[39mT)\n\u001b[0;32m     14\u001b[0m     values, vectors \u001b[38;5;241m=\u001b[39m np\u001b[38;5;241m.\u001b[39mlinalg\u001b[38;5;241m.\u001b[39meig(cov_matrix)\n",
      "\u001b[1;31mUFuncTypeError\u001b[0m: Cannot cast ufunc 'subtract' output from dtype('float64') to dtype('uint8') with casting rule 'same_kind'"
     ]
    }
   ],
   "source": [
    "pca = PCA(p = 10)\n",
    "pca.fit(X)\n",
    "print(X.shape)"
   ]
  }
 ],
 "metadata": {
  "kernelspec": {
   "display_name": "Python 3",
   "language": "python",
   "name": "python3"
  },
  "language_info": {
   "codemirror_mode": {
    "name": "ipython",
    "version": 3
   },
   "file_extension": ".py",
   "mimetype": "text/x-python",
   "name": "python",
   "nbconvert_exporter": "python",
   "pygments_lexer": "ipython3",
   "version": "3.11.9"
  }
 },
 "nbformat": 4,
 "nbformat_minor": 2
}
